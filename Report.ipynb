{
 "cells": [
  {
   "cell_type": "markdown",
   "metadata": {},
   "source": [
    "# Deep Q Network Banana Hunter\n",
    "### Training a Deep Q Network to Collect Yellow Bananas\n",
    "\n",
    "**Author: [jstol](https://github.com/jstol)**\n",
    "\n",
    "This project was completed as part of the Udacity [Deep Reinforcement Learning Nanodegree](https://www.udacity.com/course/deep-reinforcement-learning-nanodegree--nd893).\n",
    "\n",
    "Code within this project is written from scratch (with some inspiration and tips taken from previous [DQN homework](https://github.com/udacity/deep-reinforcement-learning/tree/dc65050c8f47b365560a30a112fb84f762005c6b/dqn) in the Udacity program).\n",
    "\n",
    "## Environment\n",
    "The goal is to train an agent through (Deep) Q-Learning that is capable of navigating a world containing yellow and blue bananas. Yellow bananas result in a reward of +1, and blue bananas -1. The task is episodic, with the episode ending after a fixed amount of time. An agent that \"solves\" the environment is defined as achieving a reward of +13 or greater on average over 100 episodes.\n",
    "\n",
    "The environment is provided by Udacity, and based on Unity's [ML-Agents](https://github.com/Unity-Technologies/ml-agents) framework.\n",
    "\n",
    "Observations are delivered in the form of 37-dimensional floating point vectors, and include measurements such as the velocity of the agent. The actions available to the agent are `0` (walk forwards), `1` (walk backwards), `2` (turn left), and `3` (turn right).\n",
    "\n",
    "## Model\n",
    "The agent in this project learns through [Q-learning](https://en.wikipedia.org/wiki/Q-learning), specifically through a Deep Q Network (DQN) \\[1\\]. A simple feed-forward network (with 3 hidden layers) is used. The network architecture is configurable, but by default the agent makes use of the architecture as seen below:\n",
    "\n",
    "![network architecture](images/network_architecture.png \"The Project Network Architecture\")\n",
    "\n",
    "As seen in the code below, the agent is able to solve the environment in 1,170 episodes.\n",
    "\n",
    "### Hyperparameters\n",
    "Adam was used as the optimizer, and ReLU activation functions were used within the hidden layers. The agent can be configured with hyperparameters as desired, but the following settings are used by default:\n",
    "- `update_freq` = 4: Frequency to update the DQNs.\n",
    "- `buffer_size` = 20,000: Size of the replay buffer to maintain.\n",
    "- `batch_size` = 64: Size of the batch to use for SGD.\n",
    "- `gamma` = 0.99: Reward discount factor.\n",
    "- `lr` = 0.001: Learning rate to use (Adam).\n",
    "- `tau` = 0.001: The mixing factor to use when updating the target DQN. If None, use hard updates.\n",
    "- `eps_start` = 1.0: Starting epsilon value.\n",
    "- `eps_min` = 0.05: Minimum allowable epsilon value.\n",
    "- `eps_decay` = 0.998: Epsilon decay factor.\n",
    "- `max_num_episodes` = 2,000: Maximum number of episodes to let the agent run for.\n",
    "\n",
    "### Future Work\n",
    "The version of DQN used in this project stays fairly true to the original paper; however, it could be improved to aid in the agent's learning. For example, through the use of [Double Q-Learning](https://www.semanticscholar.org/paper/Deep-Reinforcement-Learning-with-Double-Q-Learning-Hasselt-Guez/3b9732bb07dc99bde5e1f9f75251c6ea5039373e), [Dueling Q Networks](https://www.semanticscholar.org/paper/Dueling-Network-Architectures-for-Deep-Learning-Wang-Schaul/4c05d7caa357148f0bbd61720bdd35f0bc05eb81), or [Prioritized Experience Replay](https://www.semanticscholar.org/paper/Prioritized-Experience-Replay-Schaul-Quan/c6170fa90d3b2efede5a2e1660cb23e1c824f2ca).\n",
    "\n",
    "### References\n",
    "  1. Mnih, Volodymyr, Koray Kavukcuoglu, David Silver, Andrei A. Rusu, Joel Veness, Marc G. Bellemare, Alex Graves, \n",
    "Martin A. Riedmiller, Andreas K. Fidjeland, Georg Ostrovski, Stig Petersen, Charles Beattie, Amir Sadik, Ioannis \n",
    "Antonoglou, Helen. King, Dharshan Kumaran, Daan Wierstra, Shane Legg and Demis Hassabis. “[Human-level control through \n",
    "deep reinforcement learning](https://www.nature.com/articles/nature14236).” Nature 518 (2015): 529-533."
   ]
  },
  {
   "cell_type": "markdown",
   "metadata": {},
   "source": [
    "## Code Setup"
   ]
  },
  {
   "cell_type": "code",
   "execution_count": 1,
   "metadata": {},
   "outputs": [],
   "source": [
    "from collections import deque\n",
    "\n",
    "import numpy as np\n",
    "import torch\n",
    "from tqdm.notebook import tqdm\n",
    "from unityagents import UnityEnvironment\n",
    "\n",
    "import matplotlib.pyplot as plt\n",
    "%matplotlib inline"
   ]
  },
  {
   "cell_type": "code",
   "execution_count": 2,
   "metadata": {},
   "outputs": [],
   "source": [
    "# This module should be on PYTHONPATH - it contains the training logic\n",
    "from dqn import train"
   ]
  },
  {
   "cell_type": "markdown",
   "metadata": {},
   "source": [
    "## Create the environment"
   ]
  },
  {
   "cell_type": "code",
   "execution_count": 3,
   "metadata": {},
   "outputs": [
    {
     "name": "stderr",
     "output_type": "stream",
     "text": [
      "INFO:unityagents:\n",
      "'Academy' started successfully!\n",
      "Unity Academy name: Academy\n",
      "        Number of Brains: 1\n",
      "        Number of External Brains : 1\n",
      "        Lesson number : 0\n",
      "        Reset Parameters :\n",
      "\t\t\n",
      "Unity brain name: BananaBrain\n",
      "        Number of Visual Observations (per agent): 0\n",
      "        Vector Observation space type: continuous\n",
      "        Vector Observation space size (per agent): 37\n",
      "        Number of stacked Vector Observation: 1\n",
      "        Vector Action space type: discrete\n",
      "        Vector Action space size (per agent): 4\n",
      "        Vector Action descriptions: , , , \n"
     ]
    }
   ],
   "source": [
    "model_output_path = '../models/checkpoint.pth'\n",
    "env_path = '../data/Banana.app'\n",
    "env = UnityEnvironment(file_name=env_path)"
   ]
  },
  {
   "cell_type": "markdown",
   "metadata": {},
   "source": [
    "## Train the Agent"
   ]
  },
  {
   "cell_type": "code",
   "execution_count": 4,
   "metadata": {},
   "outputs": [
    {
     "data": {
      "application/vnd.jupyter.widget-view+json": {
       "model_id": "35ba58f9a7ca40b18e89a23f8ff9c923",
       "version_major": 2,
       "version_minor": 0
      },
      "text/plain": [
       "HBox(children=(FloatProgress(value=0.0, description='Episode 0: N/A (Current best avg: N/A)', max=2000.0, styl…"
      ]
     },
     "metadata": {},
     "output_type": "display_data"
    },
    {
     "name": "stdout",
     "output_type": "stream",
     "text": [
      "Solved in 1170 episodes (13.06 > 13)\n",
      "\n"
     ]
    }
   ],
   "source": [
    "avg_window_size = 100\n",
    "avg_window_target = 13\n",
    "scores = []\n",
    "scores_window = deque(maxlen=avg_window_size)\n",
    "max_avg_score = float('-inf')\n",
    "max_num_episodes = 2000\n",
    "\n",
    "# Explore/train\n",
    "agent, train_step_generator = train(env, max_num_episodes=max_num_episodes)\n",
    "tqdm_iterator = tqdm(enumerate(train_step_generator), total=max_num_episodes,\n",
    "                     desc='Episode 0: N/A (Current best avg: N/A)')\n",
    "for episode, score in tqdm_iterator:\n",
    "    scores.append(score)\n",
    "    scores_window.append(score)\n",
    "    max_avg_score = max(max_avg_score, np.mean(scores_window)) \\\n",
    "        if len(scores_window) == avg_window_size else max_avg_score\n",
    "\n",
    "    tqdm_iterator.set_description(f\"Episode {episode}: {score} (Current best avg: {max_avg_score})\")\n",
    "\n",
    "    if max_avg_score >= avg_window_target:\n",
    "        print(f\"Solved in {episode + 1} episodes ({max_avg_score} > {avg_window_target})\")\n",
    "        break\n",
    "        \n",
    "# Save the model after we're done\n",
    "torch.save(agent.dqn.state_dict(), model_output_path)"
   ]
  },
  {
   "cell_type": "markdown",
   "metadata": {},
   "source": [
    "### Visualizing Reward as Training Progresses"
   ]
  },
  {
   "cell_type": "code",
   "execution_count": 5,
   "metadata": {},
   "outputs": [
    {
     "data": {
      "image/png": "[encoded data removed]",
      "text/plain": [
       "<Figure size 432x288 with 1 Axes>"
      ]
     },
     "metadata": {
      "needs_background": "light"
     },
     "output_type": "display_data"
    }
   ],
   "source": [
    "# Plot the scores per episode\n",
    "plt.figure()\n",
    "plt.plot(scores)\n",
    "plt.xlabel('Episode')\n",
    "plt.ylabel('Reward')\n",
    "plt.show()"
   ]
  },
  {
   "cell_type": "markdown",
   "metadata": {},
   "source": [
    "## Visualize a Smart Agent\n",
    "> *Note*: Sometimes this cell requires a fresh kernel restart.\n",
    "\n",
    "The code below will load the model parameters for a pre-trained agent and run the agent in the environment."
   ]
  },
  {
   "cell_type": "code",
   "execution_count": 6,
   "metadata": {},
   "outputs": [],
   "source": [
    "from dqn import env_step, create_default_agent\n",
    "\n",
    "# Load model\n",
    "smart_agent = create_default_agent(env)\n",
    "smart_agent.dqn.load_state_dict(torch.load(model_output_path))\n",
    "\n",
    "# Visualize 4 episodes\n",
    "brain_name = env.brain_names[0]\n",
    "smart_agent_scores = []\n",
    "for _ in range(4):\n",
    "    smart_agent_score = 0.0\n",
    "    env_info = env.reset(train_mode=False)[brain_name]\n",
    "    state = env_info.vector_observations[0]\n",
    "    while True:\n",
    "        # By default, the agent uses an epsilon of 0.0, which is equivalent to using a greedy policy\n",
    "        action = smart_agent.act(state)\n",
    "        state, reward, done = env_step(env, brain_name, action)\n",
    "        smart_agent_score += reward\n",
    "        if done:\n",
    "            break\n",
    "    smart_agent_scores.append(smart_agent_score)"
   ]
  },
  {
   "cell_type": "code",
   "execution_count": 6,
   "metadata": {},
   "outputs": [
    {
     "data": {
      "text/plain": [
       "[14.0, 15.0, 10.0, 17.0]"
      ]
     },
     "execution_count": 6,
     "metadata": {},
     "output_type": "execute_result"
    }
   ],
   "source": [
    "# Print out the scores collected by the smart agent in each episode\n",
    "smart_agent_scores"
   ]
  },
  {
   "cell_type": "markdown",
   "metadata": {},
   "source": [
    "## Cleanup"
   ]
  },
  {
   "cell_type": "code",
   "execution_count": 7,
   "metadata": {},
   "outputs": [],
   "source": [
    "# Close the environment\n",
    "env.close()"
   ]
  }
 ],
 "metadata": {
  "kernelspec": {
   "display_name": "drlnd",
   "language": "python",
   "name": "drlnd"
  },
  "language_info": {
   "codemirror_mode": {
    "name": "ipython",
    "version": 3
   },
   "file_extension": ".py",
   "mimetype": "text/x-python",
   "name": "python",
   "nbconvert_exporter": "python",
   "pygments_lexer": "ipython3",
   "version": "3.6.10"
  }
 },
 "nbformat": 4,
 "nbformat_minor": 4
}
